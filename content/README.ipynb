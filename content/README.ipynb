{
 "cells": [
  {
   "cell_type": "code",
   "execution_count": null,
   "metadata": {},
   "outputs": [],
   "source": []
  },
  {
   "cell_type": "markdown",
   "metadata": {},
   "source": [
    "# SM 2024 Computation in the Lab Workshop\n",
    "\n",
    "The idea of the workshop is to introduce several different ways that computing can be integrated into laboratory activities. This involves the use of both models and experiments to produce data that can be analyzed, interpreted, and visualized in various ways using the ever improving tools that have been developed for data science.\n",
    "\n",
    "This is a new workshop that's never been offered before so it's difficult to predict exaclty how far we'll get, but at the very least you should have a good start so that you can complete the activities later if we don't finish today.\n",
    "\n",
    "When I teach these concepts in my own classes I have students set up each experiment themselves one step at a time. If it's a pig flying on the end of a string, or a cart on a track, or a mass on a spring, they connect each piece, measure each length, or mass, and construct the whole thing. If it's a circuit with resistors, capacitors, or LEDs, they connect each component and build it up on a breadboard with jumper wires and component legs inserted in the same row. However, in these contexts we're also learning a lot about many things that you already know! This workshop is about the computational part of the lab, not the set up. In order to make this practical and useful, I'm \"short circuting\" the process. I've already built the circuits you'll be using today on a PCB. We'll use a microcontroller to drive and measure these circuits. I'm assuming you're already familiar with the physics of these circuits, so we'll focus on the computation and modeling.\n",
    "\n",
    "Having said all that, I'm *not* assuming that you already know [python](https://www.python.org), so we'll take some time to introduce everything you'll need with regard to python in the worlshop.\n",
    "\n",
    "This workshop will be divided into four main parts:\n",
    "\n",
    "1) [Getting started with Python](GettingStarted.ipynb)\n",
    "2) [Modeling and Visualizing Data](ModelingVisualizing.ipynb)\n",
    "3) [Collecting Data](CollectingData.ipynb).\n",
    "4) [Data Analysis and Visualization](DataAnalysis.ipynb).\n",
    "\n"
   ]
  },
  {
   "cell_type": "markdown",
   "metadata": {},
   "source": []
  }
 ],
 "metadata": {
  "language_info": {
   "name": "python"
  }
 },
 "nbformat": 4,
 "nbformat_minor": 2
}
