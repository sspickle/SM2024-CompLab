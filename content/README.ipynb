{
 "cells": [
  {
   "cell_type": "code",
   "execution_count": null,
   "metadata": {},
   "outputs": [],
   "source": []
  },
  {
   "cell_type": "markdown",
   "metadata": {},
   "source": [
    "# SM 2024 Computation in the Lab Workshop\n",
    "\n",
    "This workshop will be divided into four main parts:\n",
    "\n",
    "1) [Getting started with Python](GettingStarted.ipynb)\n",
    "2) [Modeling and Visualizing Data](ModelingVisualizing.ipynb)\n",
    "3) [Collecting Data](CollectingData.ipynb).\n",
    "4) [Data Analysis](DataAnalysis.ipynb).\n",
    "\n"
   ]
  },
  {
   "cell_type": "markdown",
   "metadata": {},
   "source": []
  }
 ],
 "metadata": {
  "language_info": {
   "name": "python"
  }
 },
 "nbformat": 4,
 "nbformat_minor": 2
}
