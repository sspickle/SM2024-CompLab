{
 "cells": [
  {
   "cell_type": "markdown",
   "metadata": {},
   "source": [
    "# Collecting Real Data\n",
    "\n",
    "Now it's time to actually collect some data!\n",
    "\n",
    "You've been given a small ESP32-S2 microcontroller and a \"shield\" or \"hat\" board that can be attached to the microcontroller. If the boards are not already attached you can connect them. Make sure the 10-13 and 15-17 pins match between the two boards. See the correct alignment in the image below:\n",
    "\n",
    "![Alignment](imgs/alignment.png)\n",
    "\n",
    "Once these are connected, attach the microcontroller to your computer. You should see an external drive mount itself with the name \"CIRCUITPY\" as shown on Windows, and MacOS in Fig.&nbsp;1:\n",
    "\n",
    "|Mac|Windows|\n",
    "|:-|:-|\n",
    "|![MacOS Mounted Filesystem](imgs/maccpymount.png)|![Windows Mounted Filesystem](imgs/wincpymount.png)|\n",
    "<td colspan=2>Mounted Filesystem for Mac and Windows</td>\n",
    "\n",
    "To program the microcontroller you'll need to download an editor. I've been using \n",
    "[Thonny](https://thonny.org/), which I recommend, but there are others as well. For the purpose of this workshop, let's use Thonny so we're all on the same page. You'll be keeping your microcontroller, so you can experiment with others later if you like.\n"
   ]
  },
  {
   "cell_type": "markdown",
   "metadata": {},
   "source": [
    "\n",
    "First download Thonny from [thonny.org](https://thonny.org/) and install it. When you first run Thonny you may see something like this:\n",
    "\n",
    "|Thonny setup|\n",
    "|:-|\n",
    "|![Thonny Setup](imgs/thonny-setup.png)|\n",
    "|Thonny Setup|\n",
    "\n",
    "Chose \"Standard\" initial settings.\n",
    "\n",
    "When Thonny is finished launching you should see a screen like this. In the lower right hand corner select the menu button and choose \"CircuitPython (generic)\":\n",
    "\n",
    "|Thonny Circuitpython Configuration|\n",
    "|:-|\n",
    "|![Thonny Setup](imgs/thonny-initial-screen.png)|\n",
    "|Thonny Configuration|\n"
   ]
  },
  {
   "cell_type": "markdown",
   "metadata": {},
   "source": [
    "\n",
    "\n",
    "To control the output pins of the microcontroller and measure voltages we'll also be using python, but it's a slightly different version of python than the one we're using to analyze the data. This version runs on the microcontroller, and it's called [CircuitPython](https://circuitpython.org/). In addition to standard python syntax, and some standard python libraries, it also includes libraries that enable one to access the pins of the microcontroller to control and measure voltages, or to communicate with standard protocols (e.g., $i^2c$, `SPI`, etc.)\n",
    "\n",
    "For example there is library called `analogio` that includes methods to read voltage values using analog to digital converters (ADCs) on the microcontroller. The ESP32-S2 also has two digital to analog converters (DACs) that can be used to control voltages as well. The DACs on the ESP32-S2 are eight bit DACs, so they have 255 different output levels. The voltage range is very roughly 0-3.3V. The ADCs on the ESP32-S2 are 12-bit devices, but they have a more limited voltage range. They can only measure up to about 2.5V.\n",
    "\n",
    "The circuit we'll be using in all our experiments has the schematic below:\n",
    "\n",
    "|Schematic|\n",
    "|:-|\n",
    "|![Fig. 2: PCB Schematic](imgs/schematic.png)|\n",
    "|PCB Microcontroller Schematic|\n",
    "\n",
    "\n",
    "\n"
   ]
  },
  {
   "cell_type": "markdown",
   "metadata": {},
   "source": [
    "On the ESP32-S2 pins 10, 13, and 15 can be used to measure analog voltages using ADCs, while pin 17 can be used either as a DAC output, or a digital (binary HIGH/LOW) output.\n",
    "\n",
    "# Experiment 1: Ohm's Law\n",
    "\n",
    "This experiment uses the approach described in [Modeling and Visualizing](ModelingVisualizing.ipynb) to \"measure\" the value of R3 using Ohm's Law. Of course we *know* it's a 2K resistor from the schematic, but you could frame this as an unknown for your students.\n",
    "\n",
    "To measure a voltage from a particular pin we need to use the `board` library to get a pin object, and the `analogio` library to construct analog input objects. Each analog input object corresponds to a specific pin on the microcontroller that is identified using the board library as shown below:\n",
    "\n",
    "    import analogio as aio\n",
    "    import board\n",
    "\n",
    "    a15 = aio.AnalogIn(board.IO15)\n",
    "    a10 = aio.AnalogIn(board.IO10)\n",
    "\n",
    "Then to actually carry out a measurement we need to access the `value` property of the analog input object for any particular pin. For example the following statment would save the current value of the a15 analog input object in a variable name v15:\n",
    "\n",
    "    v15 = a15.value\n",
    "\n",
    "To control the output of a DAC we need to create an analog output object:\n",
    "\n",
    "    dac = aio.AnalogOut(board.IO17)\n",
    "\n",
    "In order to set the voltage on the pin one can set the `value` propery like so:\n",
    "\n",
    "    dac.value = 0  # set dac low\n",
    "\n",
    "So the plan is pretty simple. Write a loop to set the voltage on pin-17, and measure the voltages on pin-15 and pin-10.\n",
    "\n",
    "1. Establish an empty list to contain the results of the measurements.\n",
    "2. Set up a loop to iterate over output voltages.\n",
    "3. For each iteration\n",
    "    * set the voltage on pin-17\n",
    "    * wait a bit for the circuit to settle (note the capacitor)\n",
    "    * measure the voltages on pins 10 and 13\n",
    "    * save the values in the list after each measurement\n",
    "\n",
    "\n"
   ]
  },
  {
   "cell_type": "markdown",
   "metadata": {},
   "source": [
    "Before we let loose and start collecting data there's one additional aspect we need to discuss. CircuitPython runs on over 500 different microcontrollers with many different features. In order for code that's written on one device to have a chance of working correctly on another device the ADCs and DACs don't use the raw input and output values, but rather they use scaled values with a minimum of zero and a maximum of an unsigned 16-bit integer ($2^{16}-1$) or 65535. This means we need to scale the values we read from ADCs and write to the DACs accordingly. Here's an example showing one way to do this. We'll go over this example in detail during the workshop.\n",
    "\n",
    "    import analogio as aio\n",
    "    import board\n",
    "    import time\n",
    "\n",
    "    ADCMAX = 2**16-1\n",
    "    DACREF = 3.3\n",
    "\n",
    "    adcTest = aio.AnalogIn(board.IO15)  # create an ADC object for pin 15\n",
    "\n",
    "    adcfactor = adcTest.reference_voltage/ADCMAX # factor to convert values to volts\n",
    "    dacfactor = ADCMAX/3.3\n",
    "\n",
    "    dac = aio.AnalogOut(board.IO17)\n",
    "\n",
    "    header = \"vout,vtest,time\"\n",
    "\n",
    "    data = []\n",
    "\n",
    "    dac.value = 0  # set dac low\n",
    "\n",
    "    print(\"sleeping.... let C discharge\")\n",
    "    print(\"3\")\n",
    "    time.sleep(1)\n",
    "    print(\"2\")\n",
    "    time.sleep(1)\n",
    "    print(\"1\")\n",
    "    time.sleep(1)\n",
    "    print(\"0 --- go!\")\n",
    "\n",
    "    t0 = time.monotonic_ns()\n",
    "\n",
    "    for i in range(0,20):\n",
    "        vout = i*3.3/20 # compute a voltage based on the loop count\n",
    "        dac.value = int(dacfactor*vout)\n",
    "        time.sleep(0.1)\n",
    "        value = adcTest.value\n",
    "        data.append((vout, value, time.monotonic_ns()-t0))\n",
    "        print(\"vout: \", vout, \"raw value:\", value)\n",
    "\n",
    "    print(\"done!\")\n",
    "\n",
    "    dac.value = 0 # give the LED a rest....\n",
    "\n",
    "    print(header)\n",
    "\n",
    "    for i in range(len(data)):\n",
    "        vout, val, t = data[i] # get data for ith iteration\n",
    "        print(f\"{vout},{val*adcfactor},{t/1e9}\")    \n"
   ]
  },
  {
   "cell_type": "markdown",
   "metadata": {},
   "source": [
    "Note that we take some pains to print the data in such a way that it's already in \"CSV\" format, so we can just copy/paste into a csv file and analyze that on the computer.\n",
    "\n",
    "## Now it's your turn!\n",
    "\n",
    "Now modify this program to measure the voltage at the junction between the two resistors as well. Be sure to keep the `time.sleep(0.1)` in the loop so the capacitor get's time to charge between measurements. (Why do we need this?)\n",
    "\n",
    "Once you have the data for this experiment you can jump to the [DataAnalysis](DataAnalysis.ipynb) notebook to analyze that data. Then come back here to learn about the next two experiments.\n"
   ]
  },
  {
   "cell_type": "markdown",
   "metadata": {},
   "source": [
    "# Experiment 2: RC Discharge\n",
    "\n",
    "The next experiment is to measure the RC time constant of an RC circuit.\n",
    "\n",
    "This could theoretically be done with the DAC in the same way, but it turns out the DAC is not great at sinking current, and it also has a non-neglible output impedance, so for this experiment we'll configure pin-17 as a digital output instead."
   ]
  },
  {
   "cell_type": "markdown",
   "metadata": {},
   "source": [
    "## Digital Output\n",
    "\n",
    "Sometimes (i.e., now!) it's also useful to control a pin as a digital input or output. Here's an example that shows how that can be done. It blinks the LED using pin 17 set up as a digital output pin:\n",
    "\n",
    "    print(\"Blinking with digital IO!\")\n",
    "\n",
    "    import digitalio as dio\n",
    "    import board\n",
    "    import time\n",
    "\n",
    "    dout = dio.DigitalInOut(board.IO17)\n",
    "    dout.direction = dio.Direction.OUTPUT\n",
    "\n",
    "\n",
    "    while True:\n",
    "        dout.value = 1\n",
    "        time.sleep(0.2)\n",
    "        dout.value = 0\n",
    "        time.sleep(0.2)\n",
    "    \n",
    "Note that when a pin is configured as a digital output (or input) a valid `value` is either `0`(low, 0V) or `1` (high, 3.3V) only."
   ]
  },
  {
   "cell_type": "markdown",
   "metadata": {},
   "source": [
    "## Measure the Discharge\n",
    "\n",
    "Now, make a copy of your program, and modify it to measure the discharge curve of the capacitor. Configure pin-17 as a digital output (as descrbied above). Bring the pin high, then wait 3 seconds, then bring the pin low, and record the start time.\n",
    "\n",
    "Modify the loop to record the voltage on the capacitor as a function of time. Be sure to take out, or comment out, the `time.sleep()` statement since this time we want to collect data as quickly as possible.\n",
    "\n",
    "Once you have the data, head back to the [DataAnalysis](DataAnalysis.ipynb) notebook to analyze the data.\n"
   ]
  },
  {
   "cell_type": "markdown",
   "metadata": {},
   "source": [
    "# Experiment 3: LED I-V Curve\n",
    "\n",
    "The last experiment is the characterize the I-V curve of an LED. For the voltages and currents we're using today, the Shockley equation works pretty well (let me know if you're interested in a physically motivated modification that also works well at higher current levels).\n",
    "\n",
    "The Shockley equation is:\n",
    "\n",
    "\\begin{equation}\n",
    "I = I_s \\left ( e^{\\frac{q V}{\\eta k_b T}} - 1 \\right)\n",
    "\\end{equation}\n",
    "\n",
    "At the current levels we'll be using we can ignore the `-1` so the equation simplifies to:\n",
    "\n",
    "\\begin{equation}\n",
    "I = I_s e^{\\frac{q V}{\\eta k_b T}}\n",
    "\\end{equation}"
   ]
  },
  {
   "cell_type": "markdown",
   "metadata": {},
   "source": [
    "Now, $I_s$, $q$, $k_b$, and $\\eta$ are all constants, so this can be thought of as simply:\n",
    "\n",
    "\\begin{equation}\n",
    "I = A e^{B V}\n",
    "\\end{equation}"
   ]
  },
  {
   "cell_type": "markdown",
   "metadata": {},
   "source": [
    "Where $A$ and $B$ are unknown parameters that we'd like to find."
   ]
  },
  {
   "cell_type": "markdown",
   "metadata": {},
   "source": [
    "Make a copy of your program and modify it to collect data from your circuit to measure these parameters. Then head back over to the [DataAnalysis](DataAnalysis.ipynb) notebook to analyze!"
   ]
  },
  {
   "cell_type": "markdown",
   "metadata": {},
   "source": []
  }
 ],
 "metadata": {
  "language_info": {
   "name": "python"
  }
 },
 "nbformat": 4,
 "nbformat_minor": 2
}
