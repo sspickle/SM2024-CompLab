{
 "cells": [
  {
   "cell_type": "markdown",
   "metadata": {},
   "source": [
    "# Collecting Real Data\n",
    "\n",
    "Now it's time to actually collect some data!\n",
    "\n",
    "You've been given a small ESP32-S2 microcontroller and a \"shield\" or \"hat\" board that can be attached to the microcontroller. If the boards are not already attached you can connect them. Make sure the 10-13 and 15-17 pins match between the two boards.\n",
    "\n",
    "[add a picture here showing the correct alignment]\n",
    "\n",
    "Once these are connected, attach the microcontroller to your computer. You should see an external drive mount itself with the name \"Circuit Python\" (not sure this is spelled correctly! Check...)\n",
    "\n",
    "To program the microcontroller you'll need to download an editor. I've been using \n",
    "[Thonny](https://thonny.org/), which I recommend, but there are others as well. For the purpose of this workshop, let's use Thonny so we're all on the same page. You'll be keeping your microcontroller, so you can experiment with others later if you like!\n",
    "\n",
    "To control the output pins of the microcontroller and measure voltages we'll also be using python, but it's a slightly different version of python than the one we're using to analyze the data.\n",
    "\n"
   ]
  },
  {
   "cell_type": "markdown",
   "metadata": {},
   "source": []
  }
 ],
 "metadata": {
  "language_info": {
   "name": "python"
  }
 },
 "nbformat": 4,
 "nbformat_minor": 2
}
