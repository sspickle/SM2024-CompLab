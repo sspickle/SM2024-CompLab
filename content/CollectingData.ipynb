{
 "cells": [
  {
   "cell_type": "markdown",
   "metadata": {},
   "source": [
    "# Collecting Real Data\n",
    "\n",
    "Now it's time to actually collect some data!\n",
    "\n",
    "You've been given a small ESP32-S2 microcontroller and a \"shield\" or \"hat\" board that can be attached to the microcontroller. If the boards are not already attached you can connect them. Make sure the 10-13 and 15-17 pins match between the two boards.\n",
    "\n",
    "[add a picture here showing the correct alignment]\n",
    "\n",
    "Once these are connected, attach the microcontroller to your computer. You should see an external drive mount itself with the name \"Circuit Python\" (not sure this is spelled correctly! Check...)\n",
    "\n",
    "To program the microcontroller you'll need to download an editor. I've been using \n",
    "[Thonny](https://thonny.org/), which I recommend, but there are others as well. For the purpose of this workshop, let's use Thonny so we're all on the same page. You'll be keeping your microcontroller, so you can experiment with others later if you like!\n",
    "\n",
    "To control the output pins of the microcontroller and measure voltages we'll also be using python, but it's a slightly different version of python than the one we're using to analyze the data. This version runs on the microcontroller, and it's called [CircuitPython](https://circuitpython.org/). In addition to standard python syntax, and some standard python libraries, it also includes libraries that enable one to access the pins of the microcontroller to control and measure voltages, or to communicate with standard protocols (e.g., $i^2c$, `SPI`, etc.)\n",
    "\n",
    "For example there is library called `analogio` that includes methods to read voltage values using analog to digital converters (ADCs) on the microcontroller. The ESP32-S2 also has two digital to analog converters (DACs) that can be used to control voltages as well. The DACs on the ESP32-S2 are eight bit DACs, so they have 255 different output levels. The voltage range is very roughly 0-3.3V. The ADCs on the ESP32-S2 are 12-bit devices, but they have a more limited voltage range. They can only measure up to about 2.5V.\n",
    "\n",
    "The circuit we'll be using in all our experiments looks like this:\n",
    "\n",
    "|Figure 1|\n",
    "|:-|\n",
    "|![Fig. 1: PCB Schematic](imgs/schematic.png)|\n",
    "|PCB Microcontroller Schematic|\n",
    "\n",
    "\n",
    "\n"
   ]
  },
  {
   "cell_type": "markdown",
   "metadata": {},
   "source": [
    "And the ESP32-S2 pins 10, 13, and 15 can be used to measure analog voltages, while pin 17 can be used as a DAC output, or a digital (binary HIGH/LOW) output.\n",
    "\n",
    "# Experiment 1: Ohm's Law\n",
    "\n",
    "This experiment uses the approach described in [Modeling and Visualizing](ModelingVisualizing.ipynb) to \"measure\" the value of R3 using Ohm's Law. Of course we *know* it's a 2K resistor from the schematic, but you could frame this as an unknown for your students.\n",
    "\n",
    "To measure a voltage from a particular pin we need to use the `board` library to get a pin object, and the `analogio` library to construct analog input objects:\n",
    "\n",
    "    import analogio as aio\n",
    "    import board\n",
    "\n",
    "    a15 = aio.AnalogIn(board.IO15)\n",
    "    a10 = aio.AnalogIn(board.IO10)\n",
    "\n",
    "Then to actually carry out a measurement we need to access the `value` property of the analog input object for any particular pin. For example the following statment would save the current value of the a15 analog input object in a variable name v15:\n",
    "\n",
    "    v15 = a15.value\n",
    "\n"
   ]
  },
  {
   "cell_type": "markdown",
   "metadata": {},
   "source": []
  },
  {
   "cell_type": "markdown",
   "metadata": {},
   "source": []
  }
 ],
 "metadata": {
  "language_info": {
   "name": "python"
  }
 },
 "nbformat": 4,
 "nbformat_minor": 2
}
