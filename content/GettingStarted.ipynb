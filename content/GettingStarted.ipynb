{
  "cells": [
    {
      "cell_type": "markdown",
      "metadata": {
        "id": "Cv7oR709vJsY"
      },
      "source": [
        "# Getting Started with Python.\n",
        "\n",
        "This notebook assumes you have no prior experience with python. It will introduce you to all the features of the langage you'll need to go through this workshop.\n",
        "\n",
        "This document is called a \"Jupyter Notebook.\" It is comprised of a series of objects called \"cells.\" There are multiple types of cells. The current cell is called a \"markdown\" cell. It takes plain text in markdown format and renders it to (hopefully beautiful) HTML. You can type math and other markdown syntax into a markdown cell to explain what you're doing.\n",
        "\n",
        "The most important other type of cell is a \"code\" cell. Python code goes into code cells. When you execute a code cell, it exectutes the code contained in the cell. The result of the last expression in the cell is automatically displayed in the output area below the cell once the cell executes.\n",
        "\n",
        "## Computation\n",
        "\n",
        "Let's compute `2+3` right now in a code cell. The cell below is a code cell. If you click in the cell, hold down the \"shift\" key, and press \"enter\" the cell will execute and your cursor will move to the following cell. Note that the result of the expression will appear below the code cell once it executes. Try it now!"
      ]
    },
    {
      "cell_type": "code",
      "execution_count": null,
      "metadata": {
        "id": "3Syhfsb9vJsb",
        "outputId": "b027af6c-9136-45b5-bc24-0be8fbe94dc4"
      },
      "outputs": [],
      "source": [
        "2+3"
      ]
    },
    {
      "cell_type": "markdown",
      "metadata": {
        "id": "9HwKnyC_vJsc"
      },
      "source": [
        "Note that the value of the last expression in the code cell is displayed below the cell. This is general behavior and a normal part of interacting with the notebook. Do some calculation, and the display the last expression at the bottom of the cell.\n",
        "\n",
        "You can also compute `4*6` in the same way."
      ]
    },
    {
      "cell_type": "code",
      "execution_count": null,
      "metadata": {
        "id": "9_dosVmgvJsc",
        "outputId": "890d3a21-d586-4ac2-d18e-d63af5babe20"
      },
      "outputs": [],
      "source": [
        "4*6"
      ]
    },
    {
      "cell_type": "markdown",
      "metadata": {},
      "source": [
        "If you need to print the value of an expression that isn't the last result in a cell you can use the `print` function like so:"
      ]
    },
    {
      "cell_type": "code",
      "execution_count": null,
      "metadata": {},
      "outputs": [],
      "source": [
        "x = 3\n",
        "print(\"x=\", x)\n",
        "y = 4\n",
        "print(\"y=\", y)\n",
        "z = x + y\n",
        "z"
      ]
    },
    {
      "cell_type": "markdown",
      "metadata": {},
      "source": [
        "an you can see the the printed output shows up in the output area beneath the cell along with the value of the last expression in the cell."
      ]
    },
    {
      "cell_type": "markdown",
      "metadata": {},
      "source": [
        "# Lists\n",
        "\n",
        "A python list is a dynamic structure that you can use to create a collection of things. To create a literal list in python you can use the `[` and `]` characters to frame a comma separated list of things. For example you can make a list of numbers, or a list of strings:\n",
        "\n",
        "    x = [1,2,3]\n",
        "    y = ['a','b','c']\n",
        "\n",
        "If you need to add something to a list, you can use the `append` method, like so:"
      ]
    },
    {
      "cell_type": "code",
      "execution_count": null,
      "metadata": {},
      "outputs": [],
      "source": [
        "x = [1,2,3]\n",
        "print(\"x before append\", x)\n",
        "x.append(4)\n",
        "print(\"x after append\", x)"
      ]
    },
    {
      "cell_type": "markdown",
      "metadata": {},
      "source": [
        "Lists are very handy when you need to accumulate results, either in an iterative calculation or when performing a series of measurements over time. We'll see how this works when we get to collecting data.\n",
        "\n",
        "There is also a useful function called `len()` that returns the lenght of a list:"
      ]
    },
    {
      "cell_type": "code",
      "execution_count": null,
      "metadata": {},
      "outputs": [],
      "source": [
        "len(x)"
      ]
    },
    {
      "cell_type": "markdown",
      "metadata": {
        "id": "WY8ybrU0vJsd"
      },
      "source": [
        "## Numpy Arrays\n",
        "\n",
        "The next topic is arrays, sometimes called `numpy` arrays. To use arrays we need to import the `numpy` library:"
      ]
    },
    {
      "cell_type": "code",
      "execution_count": null,
      "metadata": {
        "id": "aQfENBiqvJsd"
      },
      "outputs": [],
      "source": [
        "import numpy as np"
      ]
    },
    {
      "cell_type": "markdown",
      "metadata": {
        "id": "3lIFMM0qvJsd"
      },
      "source": [
        "Note that we import numpy, but we rename it to `np` to save typing.\n",
        "\n",
        "To create an array use the `np.array([])` constructor like so:"
      ]
    },
    {
      "cell_type": "code",
      "execution_count": null,
      "metadata": {},
      "outputs": [],
      "source": [
        "x = np.array([1,2,3])\n",
        "x"
      ]
    },
    {
      "cell_type": "markdown",
      "metadata": {},
      "source": [
        "Numpy arrays generally have a homogeneous collection of types (e.g., all floats, ints, etc.) but they are useful for doing math with collections, like so:"
      ]
    },
    {
      "cell_type": "code",
      "execution_count": null,
      "metadata": {
        "id": "7iTZHkNCvJsd",
        "outputId": "43ff96f1-f0be-49fb-ed10-1c0e7b4d3f79"
      },
      "outputs": [],
      "source": [
        "np.array([1,2,3])*np.array([4,3,2]) # multiply the array [1,2,3] by the array [4,3,2]\n"
      ]
    },
    {
      "cell_type": "markdown",
      "metadata": {
        "id": "ATZHogXwvJse"
      },
      "source": [
        "Note that when you multiply two numpy arrays with one another, you get element by element multiplication. You can also raise an array to a power, or divide one array by another."
      ]
    },
    {
      "cell_type": "code",
      "execution_count": null,
      "metadata": {
        "id": "9OAFc5RRvJse",
        "outputId": "d765aacb-c8ff-41fd-f172-10f7d7d53ce2"
      },
      "outputs": [],
      "source": [
        "np.array([1,4,6])**2"
      ]
    },
    {
      "cell_type": "code",
      "execution_count": null,
      "metadata": {
        "id": "DWjHKKD5vJse",
        "outputId": "b7d3e4f8-cb4a-4c8b-b071-4e9c0d410344"
      },
      "outputs": [],
      "source": [
        "np.array([5,4,2])/np.array([10,2,6])"
      ]
    },
    {
      "cell_type": "markdown",
      "metadata": {},
      "source": [
        "Note that this is in contrast with lists which do something very different when you add them!"
      ]
    },
    {
      "cell_type": "code",
      "execution_count": null,
      "metadata": {},
      "outputs": [],
      "source": [
        "x = [1,2,3]\n",
        "y = [4,5,6]\n",
        "x+y"
      ]
    },
    {
      "cell_type": "markdown",
      "metadata": {},
      "source": [
        "and they have no idea how to handle division"
      ]
    },
    {
      "cell_type": "code",
      "execution_count": null,
      "metadata": {},
      "outputs": [],
      "source": [
        "x/y"
      ]
    },
    {
      "cell_type": "markdown",
      "metadata": {},
      "source": [
        "Finally note that the `len()` function also works for numpy arrays (and most anything else that behaves like a list):"
      ]
    },
    {
      "cell_type": "code",
      "execution_count": null,
      "metadata": {},
      "outputs": [],
      "source": [
        "x = np.array([1,2,3])\n",
        "len(x)"
      ]
    },
    {
      "cell_type": "markdown",
      "metadata": {
        "id": "cn9jAAjXvJse"
      },
      "source": [
        "## Variables and Arrays\n",
        "\n",
        "Varables hold values over time like so:"
      ]
    },
    {
      "cell_type": "code",
      "execution_count": null,
      "metadata": {
        "id": "6_1cZQBGvJse"
      },
      "outputs": [],
      "source": [
        "x = 2+3"
      ]
    },
    {
      "cell_type": "markdown",
      "metadata": {},
      "source": [
        "Once we've defined a variable, we can use it in a calculation."
      ]
    },
    {
      "cell_type": "code",
      "execution_count": null,
      "metadata": {
        "id": "HFQfDngGvJsf",
        "outputId": "d6f33d82-e6f9-453e-acc0-3a08fefdefa2"
      },
      "outputs": [],
      "source": [
        "x*4"
      ]
    },
    {
      "cell_type": "markdown",
      "metadata": {},
      "source": [
        "We can assign the result of any calculation to a new varable as well:"
      ]
    },
    {
      "cell_type": "code",
      "execution_count": null,
      "metadata": {
        "id": "HfJkmJwjvJsf",
        "outputId": "1e1195cd-cc98-4078-9591-4722f7e3d1bc"
      },
      "outputs": [],
      "source": [
        "y = x**2 + 2\n",
        "y"
      ]
    },
    {
      "cell_type": "markdown",
      "metadata": {},
      "source": [
        "If we try to use a variable that hasn't been defined yet, we'll get an exception:"
      ]
    },
    {
      "cell_type": "code",
      "execution_count": null,
      "metadata": {
        "id": "0slE24gmvJsf",
        "outputId": "be51f76e-be0c-409a-9e88-7bb6b6d6bc34"
      },
      "outputs": [],
      "source": [
        "r"
      ]
    },
    {
      "cell_type": "markdown",
      "metadata": {},
      "source": [
        "We can use mathematical functions defined in the numpy library to perform calculations. We can also assign non-numerical variables, like strings."
      ]
    },
    {
      "cell_type": "code",
      "execution_count": null,
      "metadata": {
        "id": "VHdBTfZvvJsf"
      },
      "outputs": [],
      "source": [
        "numVar = np.sqrt(15)\n",
        "strVal = \"Hello World\""
      ]
    },
    {
      "cell_type": "markdown",
      "metadata": {},
      "source": [
        "You can get documentation on any function using the `?` suffix, like so:"
      ]
    },
    {
      "cell_type": "code",
      "execution_count": null,
      "metadata": {},
      "outputs": [],
      "source": [
        "np.sqrt?"
      ]
    },
    {
      "cell_type": "markdown",
      "metadata": {},
      "source": [
        "We can also assign arrays to variables:"
      ]
    },
    {
      "cell_type": "code",
      "execution_count": null,
      "metadata": {
        "id": "dC52uh7jvJsf"
      },
      "outputs": [],
      "source": [
        "A = np.array([2,4,6])\n",
        "B = np.array([1,3,5])"
      ]
    },
    {
      "cell_type": "markdown",
      "metadata": {},
      "source": [
        "And then do math with those variables:"
      ]
    },
    {
      "cell_type": "code",
      "execution_count": null,
      "metadata": {},
      "outputs": [],
      "source": [
        "A+B"
      ]
    },
    {
      "cell_type": "markdown",
      "metadata": {
        "id": "mPZNolPUvJsf"
      },
      "source": [
        "## Array Dimensions and Indexing\n",
        "\n",
        "Here are some arrays with different dimensions"
      ]
    },
    {
      "cell_type": "code",
      "execution_count": null,
      "metadata": {
        "id": "X5hiaX_1vJsf"
      },
      "outputs": [],
      "source": [
        "C = np.array([[5],[7],[8]])\n",
        "C"
      ]
    },
    {
      "cell_type": "code",
      "execution_count": null,
      "metadata": {},
      "outputs": [],
      "source": [
        "M = np.array([[1,2,3],[5,6,7]])\n",
        "M"
      ]
    },
    {
      "cell_type": "code",
      "execution_count": null,
      "metadata": {
        "id": "pID92zdevJsf",
        "outputId": "de458f55-0c5f-4674-bc1e-0542b32a7b13"
      },
      "outputs": [],
      "source": [
        "M[0,0]"
      ]
    },
    {
      "cell_type": "code",
      "execution_count": null,
      "metadata": {
        "id": "ewYyNjpAvJsf",
        "outputId": "0ea92a4f-7ea6-4d8b-d5f5-c5bd29ed7a98"
      },
      "outputs": [],
      "source": [
        "M[0,2]"
      ]
    },
    {
      "cell_type": "code",
      "execution_count": null,
      "metadata": {
        "id": "oMphuWL2vJsg",
        "outputId": "7f56fb2d-45dd-4cc0-d2b6-3d8dd43f9fc6"
      },
      "outputs": [],
      "source": [
        "M[1,0]"
      ]
    },
    {
      "cell_type": "markdown",
      "metadata": {},
      "source": [
        "Notice that the indexes start at 0, not 1.\n",
        "\n",
        "Also, when we try to get the row of `M` with index 2 it doesn't work, since there is no such row!"
      ]
    },
    {
      "cell_type": "code",
      "execution_count": null,
      "metadata": {
        "id": "vm5RFUYRvJsg",
        "outputId": "c6b4ea55-339a-4903-e5b1-8132e754ac2c"
      },
      "outputs": [],
      "source": [
        "M[2,0]"
      ]
    },
    {
      "cell_type": "markdown",
      "metadata": {},
      "source": [
        "# Functions\n",
        "\n",
        "A python function allows you to encapsulate a bit of code in an object that behaves somewhat like a mathematical function. It has arguments, and it returns a value:"
      ]
    },
    {
      "cell_type": "code",
      "execution_count": null,
      "metadata": {
        "id": "01xpzuIEvJsg"
      },
      "outputs": [],
      "source": [
        "def testFunction(x, y, z):\n",
        "    \"\"\"\n",
        "    This function takes three inputs and returns the sum and product of the inputs as a tuple\n",
        "    \"\"\"\n",
        "    a = x+y+z\n",
        "    b = x*y*z\n",
        "    return a, b\n",
        "\n",
        "testFunction(2,3,4)"
      ]
    },
    {
      "cell_type": "markdown",
      "metadata": {},
      "source": [
        "A \"lambda\" function can be assigned as a variable, or passed as the argument to another function."
      ]
    },
    {
      "cell_type": "code",
      "execution_count": null,
      "metadata": {},
      "outputs": [],
      "source": [
        "\n",
        "f = lambda x,y: x**2 + 4*x*y + y**2"
      ]
    },
    {
      "cell_type": "code",
      "execution_count": null,
      "metadata": {
        "id": "U8NyE-vlvJsg",
        "outputId": "9df7c8b3-1973-4812-d5fa-4ca7da543fe1"
      },
      "outputs": [],
      "source": [
        "f(2,1)"
      ]
    },
    {
      "cell_type": "markdown",
      "metadata": {
        "id": "RC20GJffvJsg"
      },
      "source": [
        "## Loops and Branching statements\n",
        "\n",
        "A `for` loop iterates through the elements of an object, like a list or an array. \n",
        "\n"
      ]
    },
    {
      "cell_type": "code",
      "execution_count": null,
      "metadata": {
        "id": "Gc6yh5swvJsg",
        "outputId": "94fcce08-3f07-4c6c-f747-9f785264908a"
      },
      "outputs": [],
      "source": [
        "v = [3,6,9,12,4]\n",
        "for val in v:\n",
        "    x = val**2\n",
        "    print(\"value:\", val, \", x:\", x)"
      ]
    },
    {
      "cell_type": "markdown",
      "metadata": {},
      "source": [
        "There is also a very useful \"helper\" function, called `range`. This function returns an object that behaves like a list of values. We can convert this object to an actual list using the `list()` constructor, like so:"
      ]
    },
    {
      "cell_type": "code",
      "execution_count": null,
      "metadata": {},
      "outputs": [],
      "source": [
        "x = range(10)\n",
        "list(x)"
      ]
    },
    {
      "cell_type": "code",
      "execution_count": null,
      "metadata": {
        "id": "ziUg8WrkvJsg",
        "outputId": "a6295a81-3b5a-400e-94ca-ff04a614c65e"
      },
      "outputs": [],
      "source": [
        "v = [1,1,2,3,5,8,13]\n",
        "for counter in range(len(v)):\n",
        "    x = v[counter]**2\n",
        "    if counter % 2 == 0:\n",
        "        print(\"counter:\", counter, \"x:\", x)"
      ]
    },
    {
      "cell_type": "markdown",
      "metadata": {},
      "source": [
        "# The Time library\n",
        "\n",
        "We'll be using the `time` library to force the microcontroller to wait for specified periods of time or to capture the value of the current time after a measurement. The two functions we'll be using are `sleep()` and `monotonic_ns()`.\n",
        "\n",
        "The `sleep()` function is quite simple. It simply waits for a particular period of time. It takes a single argument: the number of seconds to delay.\n",
        "\n",
        "The `monotonic_ns()` function just returns an integer, measured in nanoseconds, since some reference time.\n",
        "\n",
        "Here's an example showing how these function might be used:"
      ]
    },
    {
      "cell_type": "code",
      "execution_count": null,
      "metadata": {},
      "outputs": [],
      "source": [
        "import time\n",
        "\n",
        "start_time = time.monotonic_ns()\n",
        "for i in range(5):\n",
        "    time.sleep(1) # wait for one second\n",
        "    print(f\"time = {(time.monotonic_ns()-start_time)/1e9}\")"
      ]
    },
    {
      "cell_type": "markdown",
      "metadata": {},
      "source": [
        "# Plotting\n",
        "\n",
        "One easy way to make plots is to use the matploblib library:"
      ]
    },
    {
      "cell_type": "code",
      "execution_count": null,
      "metadata": {
        "id": "MErt3l8evJsg"
      },
      "outputs": [],
      "source": [
        "# need to import plot library\n",
        "import matplotlib.pyplot as plt"
      ]
    },
    {
      "cell_type": "markdown",
      "metadata": {},
      "source": [
        "Here's a simple example:"
      ]
    },
    {
      "cell_type": "code",
      "execution_count": null,
      "metadata": {
        "id": "7kxt57UcvJsg",
        "outputId": "07a59c40-146a-489b-bef7-f48f08270048"
      },
      "outputs": [],
      "source": [
        "\n",
        "xPts = np.array([1,2,3,4,5])\n",
        "yPts = np.array([2,3,2,3,4])\n",
        "\n",
        "plt.title(\"My First Plot\")\n",
        "plt.xlabel(\"x-values\")\n",
        "plt.ylabel(\"y-values\")\n",
        "plt.plot(xPts, yPts, 'ro', label=\"Data Points\")\n",
        "plt.plot(xPts, 0.5*xPts+1, 'b-', label=\"Line y=0.5x+1\")\n",
        "plt.legend()\n",
        "plt.grid()\n"
      ]
    },
    {
      "cell_type": "markdown",
      "metadata": {},
      "source": [
        "Here are some more examples. `np.linspace` is an easy way to generate arrays of numbers with a specific begin and end values and a certain number of array elements."
      ]
    },
    {
      "cell_type": "code",
      "execution_count": null,
      "metadata": {
        "id": "SUtBOjdwvJsg",
        "outputId": "516dcbaf-e3fe-4b4c-fa91-156b18a56c72"
      },
      "outputs": [],
      "source": [
        "xPts = np.linspace(1,5,100)\n",
        "fx = lambda x: x**2 + 2\n",
        "gx = lambda x: x**2 - 3*x + 7\n",
        "plt.title(\"Two quadratics\")\n",
        "plt.xlabel(\"x-values\")\n",
        "plt.ylabel(\"y-values\")\n",
        "plt.plot(xPts, fx(xPts), label=\"f(x)\")\n",
        "plt.plot(xPts, gx(xPts), label=\"g(x)\")\n",
        "plt.legend()\n"
      ]
    },
    {
      "cell_type": "markdown",
      "metadata": {},
      "source": [
        "# Data Files\n",
        "\n",
        "Often data is store on the filesystem in `csv` files, or `xlsx` files. We need an easy way to load those files and visualize or manipulate the data they provide. There is already one data file called `testData.csv` in the current directory of this repo. We can use this as a test case to learn how to load and visualize data from a file. The easiest way to do this is to use the `pandas` library. We can load `pandas` and give it a shorthand name `pd` like so:"
      ]
    },
    {
      "cell_type": "code",
      "execution_count": null,
      "metadata": {},
      "outputs": [],
      "source": [
        "import pandas as pd"
      ]
    },
    {
      "cell_type": "markdown",
      "metadata": {},
      "source": [
        "We can read a `csv` file using `pd.read_csv`, or an excel file using `pd.read_excel`."
      ]
    },
    {
      "cell_type": "code",
      "execution_count": null,
      "metadata": {},
      "outputs": [],
      "source": [
        "df = pd.read_csv(\"testData.csv\")\n",
        "df"
      ]
    },
    {
      "cell_type": "markdown",
      "metadata": {},
      "source": [
        "The return value from `pd.read_csv` and `pd.read_excel` is a \"data frame\" object, which is a bit like a sheet of a spreadsheet. You can refer to a particular column by name:"
      ]
    },
    {
      "cell_type": "code",
      "execution_count": null,
      "metadata": {},
      "outputs": [],
      "source": [
        "df.time"
      ]
    },
    {
      "cell_type": "markdown",
      "metadata": {},
      "source": [
        "And you can combine a dataframe with matplotlib to visualize data:"
      ]
    },
    {
      "cell_type": "code",
      "execution_count": null,
      "metadata": {},
      "outputs": [],
      "source": [
        "plt.plot(df.time, df.vout, 'r', label=\"Vout\")\n",
        "plt.plot(df.time, df.vtest, 'b', label=\"Vtest\")\n",
        "plt.grid()\n",
        "plt.title(\"test data\")\n",
        "plt.xlabel(\"time (s)\")\n",
        "plt.ylabel(\"Voltage (V)\")\n",
        "plt.legend()"
      ]
    },
    {
      "cell_type": "code",
      "execution_count": null,
      "metadata": {},
      "outputs": [],
      "source": []
    }
  ],
  "metadata": {
    "colab": {
      "provenance": []
    },
    "kernelspec": {
      "display_name": "vsci",
      "language": "python",
      "name": "python3"
    },
    "language_info": {
      "codemirror_mode": {
        "name": "ipython",
        "version": 3
      },
      "file_extension": ".py",
      "mimetype": "text/x-python",
      "name": "python",
      "nbconvert_exporter": "python",
      "pygments_lexer": "ipython3",
      "version": "3.11.5"
    },
    "orig_nbformat": 4
  },
  "nbformat": 4,
  "nbformat_minor": 0
}
