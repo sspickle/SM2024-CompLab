{
 "cells": [
  {
   "cell_type": "markdown",
   "metadata": {},
   "source": [
    "# Getting Started with Python.\n",
    "\n",
    "This notebook assumes you have no prior experience with python. It will introduce you to all the features of the langage you'll need to go through this workshop.\n",
    "\n"
   ]
  }
 ],
 "metadata": {
  "language_info": {
   "name": "python"
  }
 },
 "nbformat": 4,
 "nbformat_minor": 2
}
