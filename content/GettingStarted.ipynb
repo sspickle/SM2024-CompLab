{
  "cells": [
    {
      "cell_type": "markdown",
      "metadata": {
        "id": "Cv7oR709vJsY"
      },
      "source": [
        "# Getting Started with Python.\n",
        "\n",
        "This notebook assumes you have no prior experience with python. It will introduce you to all the features of the langage you'll need to go through this workshop.\n",
        "\n",
        "This document is called a \"Jupyter Notebook.\" It is comprised of a series of objects called \"cells.\" There are multiple types of cells. The current cell is called a \"markdown\" cell. It takes plain text in markdown format and renders it to (hopefully beautiful) HTML. You can type math and other markdown syntax into a markdown cell to explain what you're doing.\n",
        "\n",
        "The most important other type of cell is a \"code\" cell. Python code goes into code cells. When you execute a code cell, it exectutes the code contained in the cell. The result of the last expression in the cell is automatically displayed in the output area below the cell once the cell executes.\n",
        "\n",
        "## Computation\n",
        "\n",
        "Let's compute `2+3` right now in a code cell. The cell below is a code cell. If you click in the cell, hold down the \"shift\" key, and press \"enter\" the cell will execute and your cursor will move to the following cell. Note that the result of the expression will appear below the code cell once it executes. Try it now!"
      ]
    },
    {
      "cell_type": "code",
      "execution_count": null,
      "metadata": {
        "id": "3Syhfsb9vJsb",
        "outputId": "b027af6c-9136-45b5-bc24-0be8fbe94dc4"
      },
      "outputs": [
        {
          "data": {
            "text/plain": [
              "5"
            ]
          },
          "execution_count": 2,
          "metadata": {},
          "output_type": "execute_result"
        }
      ],
      "source": [
        "2+3"
      ]
    },
    {
      "cell_type": "markdown",
      "metadata": {
        "id": "9HwKnyC_vJsc"
      },
      "source": [
        "Note that the value of the last expression in the code cell is displayed below the cell. This is general behavior and a normal part of interacting with the notebook. Do some calculation, and the display the last expression at the bottom of the cell.\n",
        "\n",
        "You can also compute `4*6` in the same way."
      ]
    },
    {
      "cell_type": "code",
      "execution_count": null,
      "metadata": {
        "id": "9_dosVmgvJsc",
        "outputId": "890d3a21-d586-4ac2-d18e-d63af5babe20"
      },
      "outputs": [
        {
          "data": {
            "text/plain": [
              "24"
            ]
          },
          "execution_count": 3,
          "metadata": {},
          "output_type": "execute_result"
        }
      ],
      "source": [
        "4*6"
      ]
    },
    {
      "cell_type": "markdown",
      "metadata": {},
      "source": [
        "If you need to print the value of an expression that isn't the last result in a cell you can use the `print` function like so:"
      ]
    },
    {
      "cell_type": "code",
      "execution_count": 3,
      "metadata": {},
      "outputs": [
        {
          "name": "stdout",
          "output_type": "stream",
          "text": [
            "x= 3\n",
            "y= 4\n"
          ]
        },
        {
          "data": {
            "text/plain": [
              "7"
            ]
          },
          "execution_count": 3,
          "metadata": {},
          "output_type": "execute_result"
        }
      ],
      "source": [
        "x = 3\n",
        "print(\"x=\", x)\n",
        "y = 4\n",
        "print(\"y=\", y)\n",
        "z = x + y\n",
        "z"
      ]
    },
    {
      "cell_type": "markdown",
      "metadata": {},
      "source": [
        "an you can see the the printed output shows up in the output area beneath the cell along with the value of the last expression in the cell."
      ]
    },
    {
      "cell_type": "markdown",
      "metadata": {},
      "source": [
        "# Lists\n",
        "\n",
        "A python list is a dynamic structure that you can use to create a collection of things. To create a literal list in python you can use the `[` and `]` characters to frame a comma separated list of things. For example you can make a list of numbers, or a list of strings:\n",
        "\n",
        "    x = [1,2,3]\n",
        "    y = ['a','b','c']\n",
        "\n",
        "If you need to add something to a list, you can use the `append` method, like so:"
      ]
    },
    {
      "cell_type": "code",
      "execution_count": 1,
      "metadata": {},
      "outputs": [
        {
          "name": "stdout",
          "output_type": "stream",
          "text": [
            "x before append [1, 2, 3]\n",
            "x after append [1, 2, 3, 4]\n"
          ]
        }
      ],
      "source": [
        "x = [1,2,3]\n",
        "print(\"x before append\", x)\n",
        "x.append(4)\n",
        "print(\"x after append\", x)"
      ]
    },
    {
      "cell_type": "markdown",
      "metadata": {},
      "source": [
        "Lists are very handy when you need to accumulate results, either in an iterative calculation or when performing a series of measurements over time. We'll see how this works when we get to collecting data."
      ]
    },
    {
      "cell_type": "markdown",
      "metadata": {
        "id": "WY8ybrU0vJsd"
      },
      "source": [
        "## Numpy Arrays\n",
        "\n",
        "The next topic is arrays, sometimes called `numpy` arrays. To use arrays we need to import the `numpy` library:"
      ]
    },
    {
      "cell_type": "code",
      "execution_count": 5,
      "metadata": {
        "id": "aQfENBiqvJsd"
      },
      "outputs": [],
      "source": [
        "import numpy as np"
      ]
    },
    {
      "cell_type": "markdown",
      "metadata": {
        "id": "3lIFMM0qvJsd"
      },
      "source": [
        "Note that we import numpy, but we rename it to `np` to save typing.\n",
        "\n",
        "To create an array use the `np.array([])` constructor like so:"
      ]
    },
    {
      "cell_type": "code",
      "execution_count": 6,
      "metadata": {},
      "outputs": [
        {
          "data": {
            "text/plain": [
              "array([1, 2, 3])"
            ]
          },
          "execution_count": 6,
          "metadata": {},
          "output_type": "execute_result"
        }
      ],
      "source": [
        "x = np.array([1,2,3])\n",
        "x"
      ]
    },
    {
      "cell_type": "markdown",
      "metadata": {},
      "source": [
        "Numpy arrays generally have a homogeneous collection of types (e.g., all floats, ints, etc.) but they are useful for doing math with collections, like so:"
      ]
    },
    {
      "cell_type": "code",
      "execution_count": 7,
      "metadata": {
        "id": "7iTZHkNCvJsd",
        "outputId": "43ff96f1-f0be-49fb-ed10-1c0e7b4d3f79"
      },
      "outputs": [
        {
          "data": {
            "text/plain": [
              "array([4, 6, 6])"
            ]
          },
          "execution_count": 7,
          "metadata": {},
          "output_type": "execute_result"
        }
      ],
      "source": [
        "np.array([1,2,3])*np.array([4,3,2]) # multiply the array [1,2,3] by the array [4,3,2]\n"
      ]
    },
    {
      "cell_type": "markdown",
      "metadata": {
        "id": "ATZHogXwvJse"
      },
      "source": [
        "Note that when you multiply two numpy arrays with one another, you get element by element multiplication. You can also raise an array to a power, or divide one array by another."
      ]
    },
    {
      "cell_type": "code",
      "execution_count": 4,
      "metadata": {
        "id": "9OAFc5RRvJse",
        "outputId": "d765aacb-c8ff-41fd-f172-10f7d7d53ce2"
      },
      "outputs": [
        {
          "data": {
            "text/plain": [
              "array([ 1, 16, 36])"
            ]
          },
          "execution_count": 4,
          "metadata": {},
          "output_type": "execute_result"
        }
      ],
      "source": [
        "np.array([1,4,6])**2"
      ]
    },
    {
      "cell_type": "code",
      "execution_count": 5,
      "metadata": {
        "id": "DWjHKKD5vJse",
        "outputId": "b7d3e4f8-cb4a-4c8b-b071-4e9c0d410344"
      },
      "outputs": [
        {
          "data": {
            "text/plain": [
              "array([0.5       , 2.        , 0.33333333])"
            ]
          },
          "execution_count": 5,
          "metadata": {},
          "output_type": "execute_result"
        }
      ],
      "source": [
        "np.array([5,4,2])/np.array([10,2,6])"
      ]
    },
    {
      "cell_type": "markdown",
      "metadata": {},
      "source": [
        "Note that this is in contrast with lists which do something very different when you add them!"
      ]
    },
    {
      "cell_type": "code",
      "execution_count": 7,
      "metadata": {},
      "outputs": [
        {
          "data": {
            "text/plain": [
              "[1, 2, 3, 4, 5, 6]"
            ]
          },
          "execution_count": 7,
          "metadata": {},
          "output_type": "execute_result"
        }
      ],
      "source": [
        "x = [1,2,3]\n",
        "y = [4,5,6]\n",
        "x+y"
      ]
    },
    {
      "cell_type": "markdown",
      "metadata": {},
      "source": [
        "and they have no idea how to handle division"
      ]
    },
    {
      "cell_type": "code",
      "execution_count": 8,
      "metadata": {},
      "outputs": [
        {
          "ename": "TypeError",
          "evalue": "unsupported operand type(s) for /: 'list' and 'list'",
          "output_type": "error",
          "traceback": [
            "\u001b[0;31m---------------------------------------------------------------------------\u001b[0m",
            "\u001b[0;31mTypeError\u001b[0m                                 Traceback (most recent call last)",
            "Cell \u001b[0;32mIn[8], line 1\u001b[0m\n\u001b[0;32m----> 1\u001b[0m \u001b[43mx\u001b[49m\u001b[38;5;241;43m/\u001b[39;49m\u001b[43my\u001b[49m\n",
            "\u001b[0;31mTypeError\u001b[0m: unsupported operand type(s) for /: 'list' and 'list'"
          ]
        }
      ],
      "source": [
        "x/y"
      ]
    },
    {
      "cell_type": "markdown",
      "metadata": {
        "id": "cn9jAAjXvJse"
      },
      "source": [
        "## Variables and Arrays\n",
        "\n",
        "Varables hold values over time like so:"
      ]
    },
    {
      "cell_type": "code",
      "execution_count": 8,
      "metadata": {
        "id": "6_1cZQBGvJse"
      },
      "outputs": [],
      "source": [
        "x = 2+3"
      ]
    },
    {
      "cell_type": "markdown",
      "metadata": {},
      "source": [
        "Once we've defined a variable, we can use it in a calculation."
      ]
    },
    {
      "cell_type": "code",
      "execution_count": 9,
      "metadata": {
        "id": "HFQfDngGvJsf",
        "outputId": "d6f33d82-e6f9-453e-acc0-3a08fefdefa2"
      },
      "outputs": [
        {
          "data": {
            "text/plain": [
              "20"
            ]
          },
          "execution_count": 9,
          "metadata": {},
          "output_type": "execute_result"
        }
      ],
      "source": [
        "x*4"
      ]
    },
    {
      "cell_type": "markdown",
      "metadata": {},
      "source": [
        "We can assign the result of any calculation to a new varable as well:"
      ]
    },
    {
      "cell_type": "code",
      "execution_count": 10,
      "metadata": {
        "id": "HfJkmJwjvJsf",
        "outputId": "1e1195cd-cc98-4078-9591-4722f7e3d1bc"
      },
      "outputs": [
        {
          "data": {
            "text/plain": [
              "27"
            ]
          },
          "execution_count": 10,
          "metadata": {},
          "output_type": "execute_result"
        }
      ],
      "source": [
        "y = x**2 + 2\n",
        "y"
      ]
    },
    {
      "cell_type": "markdown",
      "metadata": {},
      "source": [
        "If we try to use a variable that hasn't been defined yet, we'll get an exception:"
      ]
    },
    {
      "cell_type": "code",
      "execution_count": 11,
      "metadata": {
        "id": "0slE24gmvJsf",
        "outputId": "be51f76e-be0c-409a-9e88-7bb6b6d6bc34"
      },
      "outputs": [
        {
          "ename": "NameError",
          "evalue": "name 'r' is not defined",
          "output_type": "error",
          "traceback": [
            "\u001b[0;31m---------------------------------------------------------------------------\u001b[0m",
            "\u001b[0;31mNameError\u001b[0m                                 Traceback (most recent call last)",
            "Cell \u001b[0;32mIn[11], line 1\u001b[0m\n\u001b[0;32m----> 1\u001b[0m \u001b[43mr\u001b[49m\n",
            "\u001b[0;31mNameError\u001b[0m: name 'r' is not defined"
          ]
        }
      ],
      "source": [
        "r"
      ]
    },
    {
      "cell_type": "markdown",
      "metadata": {},
      "source": [
        "We can use mathematical functions defined in the numpy library to perform calculations. We can also assign non-numerical variables, like strings."
      ]
    },
    {
      "cell_type": "code",
      "execution_count": 14,
      "metadata": {
        "id": "VHdBTfZvvJsf"
      },
      "outputs": [],
      "source": [
        "numVar = np.sqrt(15)\n",
        "strVal = \"Hello World\""
      ]
    },
    {
      "cell_type": "markdown",
      "metadata": {},
      "source": [
        "You can get documentation on any function using the `?` suffix, like so:"
      ]
    },
    {
      "cell_type": "code",
      "execution_count": 42,
      "metadata": {},
      "outputs": [
        {
          "name": "stdout",
          "output_type": "stream",
          "text": [
            "\u001b[0;31mCall signature:\u001b[0m  \u001b[0mnp\u001b[0m\u001b[0;34m.\u001b[0m\u001b[0msqrt\u001b[0m\u001b[0;34m(\u001b[0m\u001b[0;34m*\u001b[0m\u001b[0margs\u001b[0m\u001b[0;34m,\u001b[0m \u001b[0;34m**\u001b[0m\u001b[0mkwargs\u001b[0m\u001b[0;34m)\u001b[0m\u001b[0;34m\u001b[0m\u001b[0;34m\u001b[0m\u001b[0m\n",
            "\u001b[0;31mType:\u001b[0m            ufunc\n",
            "\u001b[0;31mString form:\u001b[0m     <ufunc 'sqrt'>\n",
            "\u001b[0;31mFile:\u001b[0m            ~/vsci/lib/python3.11/site-packages/numpy/__init__.py\n",
            "\u001b[0;31mDocstring:\u001b[0m      \n",
            "sqrt(x, /, out=None, *, where=True, casting='same_kind', order='K', dtype=None, subok=True[, signature, extobj])\n",
            "\n",
            "Return the non-negative square-root of an array, element-wise.\n",
            "\n",
            "Parameters\n",
            "----------\n",
            "x : array_like\n",
            "    The values whose square-roots are required.\n",
            "out : ndarray, None, or tuple of ndarray and None, optional\n",
            "    A location into which the result is stored. If provided, it must have\n",
            "    a shape that the inputs broadcast to. If not provided or None,\n",
            "    a freshly-allocated array is returned. A tuple (possible only as a\n",
            "    keyword argument) must have length equal to the number of outputs.\n",
            "where : array_like, optional\n",
            "    This condition is broadcast over the input. At locations where the\n",
            "    condition is True, the `out` array will be set to the ufunc result.\n",
            "    Elsewhere, the `out` array will retain its original value.\n",
            "    Note that if an uninitialized `out` array is created via the default\n",
            "    ``out=None``, locations within it where the condition is False will\n",
            "    remain uninitialized.\n",
            "**kwargs\n",
            "    For other keyword-only arguments, see the\n",
            "    :ref:`ufunc docs <ufuncs.kwargs>`.\n",
            "\n",
            "Returns\n",
            "-------\n",
            "y : ndarray\n",
            "    An array of the same shape as `x`, containing the positive\n",
            "    square-root of each element in `x`.  If any element in `x` is\n",
            "    complex, a complex array is returned (and the square-roots of\n",
            "    negative reals are calculated).  If all of the elements in `x`\n",
            "    are real, so is `y`, with negative elements returning ``nan``.\n",
            "    If `out` was provided, `y` is a reference to it.\n",
            "    This is a scalar if `x` is a scalar.\n",
            "\n",
            "See Also\n",
            "--------\n",
            "emath.sqrt\n",
            "    A version which returns complex numbers when given negative reals.\n",
            "    Note that 0.0 and -0.0 are handled differently for complex inputs.\n",
            "\n",
            "Notes\n",
            "-----\n",
            "*sqrt* has--consistent with common convention--as its branch cut the\n",
            "real \"interval\" [`-inf`, 0), and is continuous from above on it.\n",
            "A branch cut is a curve in the complex plane across which a given\n",
            "complex function fails to be continuous.\n",
            "\n",
            "Examples\n",
            "--------\n",
            ">>> np.sqrt([1,4,9])\n",
            "array([ 1.,  2.,  3.])\n",
            "\n",
            ">>> np.sqrt([4, -1, -3+4J])\n",
            "array([ 2.+0.j,  0.+1.j,  1.+2.j])\n",
            "\n",
            ">>> np.sqrt([4, -1, np.inf])\n",
            "array([ 2., nan, inf])\n",
            "\u001b[0;31mClass docstring:\u001b[0m\n",
            "Functions that operate element by element on whole arrays.\n",
            "\n",
            "To see the documentation for a specific ufunc, use `info`.  For\n",
            "example, ``np.info(np.sin)``.  Because ufuncs are written in C\n",
            "(for speed) and linked into Python with NumPy's ufunc facility,\n",
            "Python's help() function finds this page whenever help() is called\n",
            "on a ufunc.\n",
            "\n",
            "A detailed explanation of ufuncs can be found in the docs for :ref:`ufuncs`.\n",
            "\n",
            "**Calling ufuncs:** ``op(*x[, out], where=True, **kwargs)``\n",
            "\n",
            "Apply `op` to the arguments `*x` elementwise, broadcasting the arguments.\n",
            "\n",
            "The broadcasting rules are:\n",
            "\n",
            "* Dimensions of length 1 may be prepended to either array.\n",
            "* Arrays may be repeated along dimensions of length 1.\n",
            "\n",
            "Parameters\n",
            "----------\n",
            "*x : array_like\n",
            "    Input arrays.\n",
            "out : ndarray, None, or tuple of ndarray and None, optional\n",
            "    Alternate array object(s) in which to put the result; if provided, it\n",
            "    must have a shape that the inputs broadcast to. A tuple of arrays\n",
            "    (possible only as a keyword argument) must have length equal to the\n",
            "    number of outputs; use None for uninitialized outputs to be\n",
            "    allocated by the ufunc.\n",
            "where : array_like, optional\n",
            "    This condition is broadcast over the input. At locations where the\n",
            "    condition is True, the `out` array will be set to the ufunc result.\n",
            "    Elsewhere, the `out` array will retain its original value.\n",
            "    Note that if an uninitialized `out` array is created via the default\n",
            "    ``out=None``, locations within it where the condition is False will\n",
            "    remain uninitialized.\n",
            "**kwargs\n",
            "    For other keyword-only arguments, see the :ref:`ufunc docs <ufuncs.kwargs>`.\n",
            "\n",
            "Returns\n",
            "-------\n",
            "r : ndarray or tuple of ndarray\n",
            "    `r` will have the shape that the arrays in `x` broadcast to; if `out` is\n",
            "    provided, it will be returned. If not, `r` will be allocated and\n",
            "    may contain uninitialized values. If the function has more than one\n",
            "    output, then the result will be a tuple of arrays."
          ]
        }
      ],
      "source": [
        "np.sqrt?"
      ]
    },
    {
      "cell_type": "markdown",
      "metadata": {},
      "source": [
        "We can also assign arrays to variables:"
      ]
    },
    {
      "cell_type": "code",
      "execution_count": 15,
      "metadata": {
        "id": "dC52uh7jvJsf"
      },
      "outputs": [],
      "source": [
        "A = np.array([2,4,6])\n",
        "B = np.array([1,3,5])"
      ]
    },
    {
      "cell_type": "markdown",
      "metadata": {},
      "source": [
        "And then do math with those variables:"
      ]
    },
    {
      "cell_type": "code",
      "execution_count": 43,
      "metadata": {},
      "outputs": [
        {
          "data": {
            "text/plain": [
              "array([ 3,  7, 11])"
            ]
          },
          "execution_count": 43,
          "metadata": {},
          "output_type": "execute_result"
        }
      ],
      "source": [
        "A+B"
      ]
    },
    {
      "cell_type": "markdown",
      "metadata": {
        "id": "mPZNolPUvJsf"
      },
      "source": [
        "## Array Dimensions and Indexing\n",
        "\n",
        "Here are some arrays with different dimensions"
      ]
    },
    {
      "cell_type": "code",
      "execution_count": 16,
      "metadata": {
        "id": "X5hiaX_1vJsf"
      },
      "outputs": [
        {
          "data": {
            "text/plain": [
              "array([[5],\n",
              "       [7],\n",
              "       [8]])"
            ]
          },
          "execution_count": 16,
          "metadata": {},
          "output_type": "execute_result"
        }
      ],
      "source": [
        "C = np.array([[5],[7],[8]])\n",
        "C"
      ]
    },
    {
      "cell_type": "code",
      "execution_count": 17,
      "metadata": {},
      "outputs": [
        {
          "data": {
            "text/plain": [
              "array([[1, 2, 3],\n",
              "       [5, 6, 7]])"
            ]
          },
          "execution_count": 17,
          "metadata": {},
          "output_type": "execute_result"
        }
      ],
      "source": [
        "M = np.array([[1,2,3],[5,6,7]])\n",
        "M"
      ]
    },
    {
      "cell_type": "code",
      "execution_count": 18,
      "metadata": {
        "id": "pID92zdevJsf",
        "outputId": "de458f55-0c5f-4674-bc1e-0542b32a7b13"
      },
      "outputs": [
        {
          "data": {
            "text/plain": [
              "1"
            ]
          },
          "execution_count": 18,
          "metadata": {},
          "output_type": "execute_result"
        }
      ],
      "source": [
        "M[0,0]"
      ]
    },
    {
      "cell_type": "code",
      "execution_count": 19,
      "metadata": {
        "id": "ewYyNjpAvJsf",
        "outputId": "0ea92a4f-7ea6-4d8b-d5f5-c5bd29ed7a98"
      },
      "outputs": [
        {
          "data": {
            "text/plain": [
              "3"
            ]
          },
          "execution_count": 19,
          "metadata": {},
          "output_type": "execute_result"
        }
      ],
      "source": [
        "M[0,2]"
      ]
    },
    {
      "cell_type": "code",
      "execution_count": 20,
      "metadata": {
        "id": "oMphuWL2vJsg",
        "outputId": "7f56fb2d-45dd-4cc0-d2b6-3d8dd43f9fc6"
      },
      "outputs": [
        {
          "data": {
            "text/plain": [
              "5"
            ]
          },
          "execution_count": 20,
          "metadata": {},
          "output_type": "execute_result"
        }
      ],
      "source": [
        "M[1,0]"
      ]
    },
    {
      "cell_type": "markdown",
      "metadata": {},
      "source": [
        "Notice that the indexes start at 0, not 1.\n",
        "\n",
        "Also, when we try to get the row of `M` with index 2 it doesn't work, since there is no such row!"
      ]
    },
    {
      "cell_type": "code",
      "execution_count": 22,
      "metadata": {
        "id": "vm5RFUYRvJsg",
        "outputId": "c6b4ea55-339a-4903-e5b1-8132e754ac2c"
      },
      "outputs": [
        {
          "ename": "IndexError",
          "evalue": "index 2 is out of bounds for axis 0 with size 2",
          "output_type": "error",
          "traceback": [
            "\u001b[0;31m---------------------------------------------------------------------------\u001b[0m",
            "\u001b[0;31mIndexError\u001b[0m                                Traceback (most recent call last)",
            "Cell \u001b[0;32mIn[22], line 1\u001b[0m\n\u001b[0;32m----> 1\u001b[0m \u001b[43mM\u001b[49m\u001b[43m[\u001b[49m\u001b[38;5;241;43m2\u001b[39;49m\u001b[43m,\u001b[49m\u001b[38;5;241;43m0\u001b[39;49m\u001b[43m]\u001b[49m\n",
            "\u001b[0;31mIndexError\u001b[0m: index 2 is out of bounds for axis 0 with size 2"
          ]
        }
      ],
      "source": [
        "M[2,0]"
      ]
    },
    {
      "cell_type": "markdown",
      "metadata": {},
      "source": [
        "# Functions\n",
        "\n",
        "A python function allows you to encapsulate a bit of code in an object that behaves somewhat like a mathematical function. It has arguments, and it returns a value:"
      ]
    },
    {
      "cell_type": "code",
      "execution_count": 24,
      "metadata": {
        "id": "01xpzuIEvJsg"
      },
      "outputs": [
        {
          "data": {
            "text/plain": [
              "(9, 24)"
            ]
          },
          "execution_count": 24,
          "metadata": {},
          "output_type": "execute_result"
        }
      ],
      "source": [
        "def testFunction(x, y, z):\n",
        "    \"\"\"\n",
        "    This function takes three inputs and returns the sum and product of the inputs as a tuple\n",
        "    \"\"\"\n",
        "    a = x+y+z\n",
        "    b = x*y*z\n",
        "    return a, b\n",
        "\n",
        "testFunction(2,3,4)"
      ]
    },
    {
      "cell_type": "markdown",
      "metadata": {},
      "source": [
        "A \"lambda\" function can be assigned as a variable, or passed as the argument to another function."
      ]
    },
    {
      "cell_type": "code",
      "execution_count": 25,
      "metadata": {},
      "outputs": [],
      "source": [
        "\n",
        "f = lambda x,y: x**2 + 4*x*y + y**2"
      ]
    },
    {
      "cell_type": "code",
      "execution_count": null,
      "metadata": {
        "id": "U8NyE-vlvJsg",
        "outputId": "9df7c8b3-1973-4812-d5fa-4ca7da543fe1"
      },
      "outputs": [
        {
          "data": {
            "text/plain": [
              "13"
            ]
          },
          "execution_count": 20,
          "metadata": {},
          "output_type": "execute_result"
        }
      ],
      "source": [
        "f(2,1)"
      ]
    },
    {
      "cell_type": "markdown",
      "metadata": {
        "id": "RC20GJffvJsg"
      },
      "source": [
        "## Loops and Branching statements\n",
        "\n",
        "A `for` loop iterates through the elements of an object, like a list or an array."
      ]
    },
    {
      "cell_type": "code",
      "execution_count": 27,
      "metadata": {
        "id": "Gc6yh5swvJsg",
        "outputId": "94fcce08-3f07-4c6c-f747-9f785264908a"
      },
      "outputs": [
        {
          "name": "stdout",
          "output_type": "stream",
          "text": [
            "counter: 0 x: 1\n",
            "counter: 1 x: 4\n",
            "counter: 2 x: 9\n",
            "counter: 3 x: 16\n",
            "counter: 4 x: 25\n"
          ]
        }
      ],
      "source": [
        "v = [1,2,3,4,5]\n",
        "for counter in range(len(v)):\n",
        "    x = v[counter]**2\n",
        "    print(\"counter:\", counter, \"x:\", x)"
      ]
    },
    {
      "cell_type": "code",
      "execution_count": 28,
      "metadata": {
        "id": "ziUg8WrkvJsg",
        "outputId": "a6295a81-3b5a-400e-94ca-ff04a614c65e"
      },
      "outputs": [
        {
          "name": "stdout",
          "output_type": "stream",
          "text": [
            "counter: 0 x: 1\n",
            "counter: 2 x: 9\n",
            "counter: 4 x: 25\n"
          ]
        }
      ],
      "source": [
        "v = [1,2,3,4,5]\n",
        "for counter in range(len(v)):\n",
        "    x = v[counter]**2\n",
        "    if counter % 2 == 0:\n",
        "        print(\"counter:\", counter, \"x:\", x)"
      ]
    },
    {
      "cell_type": "markdown",
      "metadata": {},
      "source": [
        "# Plotting\n",
        "\n",
        "One easy way to make plots is to use the matploblib library:"
      ]
    },
    {
      "cell_type": "code",
      "execution_count": 31,
      "metadata": {
        "id": "MErt3l8evJsg"
      },
      "outputs": [],
      "source": [
        "# need to import plot library\n",
        "import matplotlib.pyplot as plt"
      ]
    },
    {
      "cell_type": "markdown",
      "metadata": {},
      "source": [
        "Here's a simple example:"
      ]
    },
    {
      "cell_type": "code",
      "execution_count": 39,
      "metadata": {
        "id": "7kxt57UcvJsg",
        "outputId": "07a59c40-146a-489b-bef7-f48f08270048"
      },
      "outputs": [
        {
          "data": {
            "image/png": "[encoded data removed]",
            "text/plain": [
              "<Figure size 640x480 with 1 Axes>"
            ]
          },
          "metadata": {},
          "output_type": "display_data"
        }
      ],
      "source": [
        "\n",
        "xPts = np.array([1,2,3,4,5])\n",
        "yPts = np.array([2,3,2,3,4])\n",
        "\n",
        "plt.title(\"My First Plot\")\n",
        "plt.xlabel(\"x-values\")\n",
        "plt.ylabel(\"y-values\")\n",
        "plt.plot(xPts, yPts, 'ro', label=\"Data Points\")\n",
        "plt.plot(xPts, 0.5*xPts+1, 'b-', label=\"Line y=0.5x+1\")\n",
        "plt.legend()\n",
        "plt.grid()\n"
      ]
    },
    {
      "cell_type": "markdown",
      "metadata": {},
      "source": [
        "Here are some more examples. `np.linspace` is an easy way to generate arrays of numbers with a specific begin and end value with a certain number of array elements."
      ]
    },
    {
      "cell_type": "code",
      "execution_count": 41,
      "metadata": {
        "id": "SUtBOjdwvJsg",
        "outputId": "516dcbaf-e3fe-4b4c-fa91-156b18a56c72"
      },
      "outputs": [
        {
          "data": {
            "text/plain": [
              "<matplotlib.legend.Legend at 0x130b7cd10>"
            ]
          },
          "execution_count": 41,
          "metadata": {},
          "output_type": "execute_result"
        },
        {
          "data": {
            "image/png": "[encoded data removed]",
            "text/plain": [
              "<Figure size 640x480 with 1 Axes>"
            ]
          },
          "metadata": {},
          "output_type": "display_data"
        }
      ],
      "source": [
        "xPts = np.linspace(1,5,100)\n",
        "fx = lambda x: x**2 + 2\n",
        "gx = lambda x: x**2 - 3*x + 7\n",
        "plt.title(\"Two quadratics\")\n",
        "plt.xlabel(\"x-values\")\n",
        "plt.ylabel(\"y-values\")\n",
        "plt.plot(xPts, fx(xPts), label=\"f(x)\")\n",
        "plt.plot(xPts, gx(xPts), label=\"g(x)\")\n",
        "plt.legend()\n"
      ]
    }
  ],
  "metadata": {
    "colab": {
      "provenance": []
    },
    "kernelspec": {
      "display_name": "vsci",
      "language": "python",
      "name": "python3"
    },
    "language_info": {
      "codemirror_mode": {
        "name": "ipython",
        "version": 3
      },
      "file_extension": ".py",
      "mimetype": "text/x-python",
      "name": "python",
      "nbconvert_exporter": "python",
      "pygments_lexer": "ipython3",
      "version": "3.11.5"
    },
    "orig_nbformat": 4
  },
  "nbformat": 4,
  "nbformat_minor": 0
}
