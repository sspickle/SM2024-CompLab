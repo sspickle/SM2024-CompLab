{
 "cells": [
  {
   "cell_type": "code",
   "execution_count": null,
   "metadata": {},
   "outputs": [],
   "source": [
    "import numpy as np\n",
    "import matplotlib.pyplot as plt"
   ]
  },
  {
   "cell_type": "markdown",
   "metadata": {},
   "source": [
    "# Generative Modeling\n",
    "\n",
    "As we're planning an experiment it helps to understand the kind of data we're expecting to collect and the method we're planning to use to make sense of the data.\n",
    "\n",
    "We can use python to generate data that has statistical properties simialar to the data we are expecting to measure. We can then use that to apply whatever statistical methods we're planning to use on the real data to ensure they work as expected on the generated data.\n"
   ]
  },
  {
   "cell_type": "markdown",
   "metadata": {},
   "source": [
    "One way to use computation in the lab is to identify a model that is expected to describe the data collected, then apply a statistical process to find the parameters of the model using the data collected. We can *validate* this process by generating data that has statistical properties similar to the data we expect to see and check that the process correcly determines the parameters."
   ]
  },
  {
   "cell_type": "markdown",
   "metadata": {},
   "source": [
    "## An example: Ohm's Law\n",
    "\n",
    "Suppose we set up the circuit shown in Fig. 1 below. We can set the source voltage, and we have a known resistance of $1\\  {\\rm k}\\Omega$ in series with an unknown resistance. The idea is to set the source voltage to a series of values and at each value, measure the voltage at the junction between the known and unknown resistance. We can then compute the current through the known resistor, and assuming the voltage measurement draws very little current, assume that this current is the same as the current in the unknown resistance. Then, using the voltage across and the current through the unknown resistor estimate its resistance using Ohm's Law: $V = I R$.\n",
    "\n",
    "|Figure 1|\n",
    "|:-|\n",
    "|![Fig. 1: Ohm's Law setup](imgs/ohms_law_setup.png)|\n",
    "|Circuit set up for Ohm's Law|\n",
    "\n",
    "We'll pick some plausible value for the unknown resistance and validate the statistical process using that value."
   ]
  },
  {
   "cell_type": "code",
   "execution_count": null,
   "metadata": {},
   "outputs": [],
   "source": [
    "N = 30 # We'll use 30 data points for the generated data\n",
    "R = 1500 # let's pick 1500 ohms for our \"unknown\" resistance\n",
    "I = np.linspace(0,0.001,30) # generate N currents between 0 and 1 mA\n",
    "V = I*R + np.random.normal(size=N)*.01 # add 10mV of \"noise\" to the data to make it more realistic\n",
    "\n",
    "plt.plot(I,V,'b.')\n"
   ]
  },
  {
   "cell_type": "markdown",
   "metadata": {},
   "source": [
    "## Estimating parameters from data\n",
    "\n",
    "To estimate the parameters (in this case, the unknown resistance) we can use the `curve_fit` function from scipy. We can import `curve_fit` like so:"
   ]
  },
  {
   "cell_type": "code",
   "execution_count": null,
   "metadata": {},
   "outputs": [],
   "source": [
    "from scipy.optimize import curve_fit"
   ]
  },
  {
   "cell_type": "code",
   "execution_count": null,
   "metadata": {},
   "outputs": [],
   "source": [
    "# Let's look at the docs for curve_fit:\n",
    "curve_fit?"
   ]
  },
  {
   "cell_type": "code",
   "execution_count": null,
   "metadata": {},
   "outputs": [],
   "source": [
    "def fit_func(I, R):\n",
    "    return I*R\n",
    "\n",
    "popt, pcov = curve_fit(fit_func, I, V, sigma=[.01]*N)\n",
    "R_fit = popt[0]\n",
    "dR = np.sqrt(np.diag(pcov))[0]\n",
    "print(f\"R_fit = {R_fit:.1f} +/- {dR:0.1f} ohms\")"
   ]
  },
  {
   "cell_type": "code",
   "execution_count": null,
   "metadata": {},
   "outputs": [],
   "source": [
    "Vth = R_fit*I\n",
    "plt.plot(I,Vth,'r-',label='Fit')\n",
    "plt.plot(I,V,'b.',label='Data')\n",
    "plt.xlabel('Current (A)')\n",
    "plt.ylabel('Voltage (V)')\n",
    "plt.legend()\n"
   ]
  },
  {
   "cell_type": "markdown",
   "metadata": {},
   "source": [
    "So this gives us some confidence that we can extract a reasonable resitance value from data collected in the experiment."
   ]
  },
  {
   "cell_type": "code",
   "execution_count": null,
   "metadata": {},
   "outputs": [],
   "source": []
  }
 ],
 "metadata": {
  "kernelspec": {
   "display_name": "vsci",
   "language": "python",
   "name": "python3"
  },
  "language_info": {
   "codemirror_mode": {
    "name": "ipython",
    "version": 3
   },
   "file_extension": ".py",
   "mimetype": "text/x-python",
   "name": "python",
   "nbconvert_exporter": "python",
   "pygments_lexer": "ipython3",
   "version": "3.11.5"
  }
 },
 "nbformat": 4,
 "nbformat_minor": 2
}
