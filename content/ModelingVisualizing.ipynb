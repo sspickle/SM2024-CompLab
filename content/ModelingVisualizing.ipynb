{
 "cells": [
  {
   "cell_type": "markdown",
   "metadata": {},
   "source": [
    "# Modeling\n",
    "\n",
    "As we're planning an experiment it helps to understand the kind of data we're expecting to collect and the method we're planning to use to make sense of the data.\n",
    "\n",
    "We can use python to generate data that has statistical properties simialar to the data we are expecting to measure. We can then use that to apply whatever statistical methods we're planning to use on the real data to ensure they work as expected on the generated data.\n",
    "\n"
   ]
  }
 ],
 "metadata": {
  "language_info": {
   "name": "python"
  }
 },
 "nbformat": 4,
 "nbformat_minor": 2
}
